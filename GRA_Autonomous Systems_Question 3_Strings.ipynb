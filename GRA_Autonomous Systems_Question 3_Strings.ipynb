{
 "cells": [
  {
   "cell_type": "code",
   "execution_count": 2,
   "metadata": {},
   "outputs": [
    {
     "name": "stdout",
     "output_type": "stream",
     "text": [
      "Enter a sentence:The quick brown fox jumps over the lazy dog\n",
      "dog lazy the over jumps fox brown quick The\n"
     ]
    }
   ],
   "source": [
    "s = input(\"Enter a sentence:\")\n",
    "print(\" \".join(reversed(s.split())))"
   ]
  },
  {
   "cell_type": "code",
   "execution_count": 3,
   "metadata": {},
   "outputs": [
    {
     "name": "stdout",
     "output_type": "stream",
     "text": [
      "Enter a sentence :A martini. Shaken, not stirred\n",
      "stirred not Shaken, martini. A\n"
     ]
    }
   ],
   "source": [
    "import string  \n",
    "sentence = input(\"Enter a sentence :\")\n",
    "# An input string. \n",
    "\n",
    "rev_list= []   \n",
    "word_list = sentence.split()\n",
    "reversed_list = word_list[:: -1]\n",
    "for indx,i in enumerate(reversed_list): \n",
    "      \n",
    "    # checking whether the char is punctuation. \n",
    "    if i in string.punctuation: \n",
    "        reversed_list.pop(indx) \n",
    "        \n",
    "for indx,i in enumerate(word_list): \n",
    "      \n",
    "    # checking whether the char is punctuation. \n",
    "    if i in string.punctuation: \n",
    "        \n",
    "        reversed_list.insert(indx,i) \n",
    "        \n",
    "   \n",
    "\n",
    "reversed_sentence = \" \".join(reversed_list)\n",
    "print(reversed_sentence)"
   ]
  },
  {
   "cell_type": "code",
   "execution_count": null,
   "metadata": {},
   "outputs": [],
   "source": []
  }
 ],
 "metadata": {
  "kernelspec": {
   "display_name": "Python 3",
   "language": "python",
   "name": "python3"
  },
  "language_info": {
   "codemirror_mode": {
    "name": "ipython",
    "version": 3
   },
   "file_extension": ".py",
   "mimetype": "text/x-python",
   "name": "python",
   "nbconvert_exporter": "python",
   "pygments_lexer": "ipython3",
   "version": "3.7.3"
  }
 },
 "nbformat": 4,
 "nbformat_minor": 2
}
